{
 "cells": [
  {
   "cell_type": "code",
   "execution_count": 2,
   "metadata": {},
   "outputs": [],
   "source": [
    "from __future__ import print_function\n",
    "#%matplotlib inline\n",
    "import argparse\n",
    "import os\n",
    "import random\n",
    "import torch\n",
    "import torch.nn as nn\n",
    "import torch.nn.parallel\n",
    "import torch.backends.cudnn as cudnn\n",
    "import torch.optim as optiml\n",
    "import torch.optim as optim\n",
    "import torch.utils.data as data_utils\n",
    "\n",
    "from torch.utils.data.dataset import Dataset\n",
    "import torch.utils\n",
    "import torchvision.datasets as dset\n",
    "import torchvision.transforms as transforms\n",
    "import torchvision.utils as vutils\n",
    "import numpy as np\n",
    "import matplotlib.pyplot as plt\n",
    "import pandas as pd\n",
    "import seaborn as sb"
   ]
  },
  {
   "cell_type": "code",
   "execution_count": 3,
   "metadata": {},
   "outputs": [
    {
     "data": {
      "image/png": "[encoded data removed]",
      "text/plain": [
       "<Figure size 576x288 with 1 Axes>"
      ]
     },
     "metadata": {
      "needs_background": "light"
     },
     "output_type": "display_data"
    }
   ],
   "source": [
    "data = pd.read_csv('./UCI_Credit_Card.csv')\n",
    "data.rename(columns={'default.payment.next.month':'target'}, inplace=True)\n",
    "data.target.unique()\n",
    "plt.figure(figsize=(8,4))\n",
    "sb.countplot(x='target', data = data)\n",
    "plt.xlabel('default payment')\n",
    "plt.ylabel('count')\n",
    "plt.show()"
   ]
  },
  {
   "cell_type": "code",
   "execution_count": 4,
   "metadata": {},
   "outputs": [],
   "source": [
    "torch.manual_seed(1)    \n",
    "\n",
    "num_epochs = 20         \n",
    "bs = 128\n",
    "lr = 0.02          \n",
    "nw = 4\n",
    "tp = 3\n",
    "imbalance = 1"
   ]
  },
  {
   "cell_type": "code",
   "execution_count": 5,
   "metadata": {},
   "outputs": [],
   "source": [
    "def normalize(df):\n",
    "    for col in df.columns:\n",
    "        if(col == 'target'):\n",
    "            continue\n",
    "        else:\n",
    "            if(df[col].std() > 1000):\n",
    "                df[col] = (df[col] - df[col].mean()) / df[col].std()\n",
    "            else:\n",
    "                df[col] = (df[col] - df[col].min()) / (df[col].max() - df[col].min())\n",
    "    \n",
    "    return df\n"
   ]
  },
  {
   "cell_type": "code",
   "execution_count": 6,
   "metadata": {},
   "outputs": [],
   "source": [
    "# type 1\n",
    "if(tp == 1):\n",
    "    data = pd.read_csv('./UCI_Credit_Card.csv')\n",
    "    data_1 = data[['PAY_0', 'PAY_2','PAY_3','PAY_4','PAY_5','PAY_6','BILL_AMT1','BILL_AMT2','BILL_AMT3','BILL_AMT4','BILL_AMT5','BILL_AMT6','PAY_AMT1','PAY_AMT2','PAY_AMT3','PAY_AMT4','PAY_AMT5','PAY_AMT6','default.payment.next.month']]\n",
    "    data_1.rename(columns={'default.payment.next.month':'target'}, inplace=True)\n",
    "    data_train = data_1[:25000]\n",
    "    data_test = data_1[25000:]\n",
    "    x_train = np.array(data_train.drop('target', axis = 1))\n",
    "    y_train = np.array(data_train['target'])\n",
    "    x_test = np.array(data_test.drop('target', axis = 1))\n",
    "    y_test = np.array(data_test['target'])\n",
    "    #target : default payment(違約金) 1:違約 0:沒違約\n",
    "    input_feature = 18\n",
    "    data_1[:10]"
   ]
  },
  {
   "cell_type": "code",
   "execution_count": 7,
   "metadata": {},
   "outputs": [],
   "source": [
    "# type 2\n",
    "if(tp == 2):\n",
    "\n",
    "    data_ = pd.read_csv('./UCI_Credit_Card.csv')\n",
    "    data2 = data_[['BILL_AMT1','BILL_AMT2','BILL_AMT3','BILL_AMT4','BILL_AMT5','BILL_AMT6','PAY_AMT1','PAY_AMT2','PAY_AMT3','PAY_AMT4','PAY_AMT5','PAY_AMT6','default.payment.next.month']]\n",
    "    data_2 = data_\n",
    "    data_2.rename(columns={'default.payment.next.month':'target'}, inplace=True)\n",
    "    data_2['D5'] = (data2['PAY_AMT5'] / data2['BILL_AMT6'])*100\n",
    "    data_2['D4'] = (data2['PAY_AMT4'] / data2['BILL_AMT5'])*100\n",
    "    data_2['D3'] = (data2['PAY_AMT3'] / data2['BILL_AMT4'])*100\n",
    "    data_2['D2'] = (data2['PAY_AMT2'] / data2['BILL_AMT3'])*100\n",
    "    data_2['D1'] = (data2['PAY_AMT1'] / data2['BILL_AMT2'])*100\n",
    "    data_2 = data_2[['D1','D2','D3','D4','D5','target']]\n",
    "    data_2.fillna(100,inplace=True)\n",
    "\n",
    "\n",
    "    data_2 = data_2[data_2['D5']>=0]\n",
    "    data_2 = data_2[data_2['D4']>=0]\n",
    "    data_2 = data_2[data_2['D3']>=0]\n",
    "    data_2 = data_2[data_2['D2']>=0]\n",
    "    data_2 = data_2[data_2['D1']>=0]\n",
    "    data_2 = data_2.reset_index()\n",
    "    data_2 = data_2.drop(['index'],axis=1)\n",
    "\n",
    "\n",
    "    data_train = data_2[:25000]\n",
    "    data_test = data_2[25000:]\n",
    "    x_train = np.array(data_train.drop('target', axis = 1))\n",
    "    y_train = np.array(data_train['target'])\n",
    "    x_test = np.array(data_test.drop('target', axis = 1))\n",
    "    y_test = np.array(data_test['target'])\n",
    "    input_feature = 5\n",
    "    print(len(data_2))\n",
    "    print(data_2[:10])"
   ]
  },
  {
   "cell_type": "code",
   "execution_count": 8,
   "metadata": {},
   "outputs": [
    {
     "data": {
      "image/png": "[encoded data removed]",
      "text/plain": [
       "<Figure size 576x288 with 1 Axes>"
      ]
     },
     "metadata": {
      "needs_background": "light"
     },
     "output_type": "display_data"
    },
    {
     "name": "stdout",
     "output_type": "stream",
     "text": [
      "14000\n",
      "             D1        D2        D3        D4        D5  LIMIT_BAL  SEX  \\\n",
      "0      0.717360  0.599922  0.712978  0.610021  0.712475  -1.133896  1.0   \n",
      "13269  0.735890  0.599922  0.712978  0.610021  0.713077  -0.518020  1.0   \n",
      "13244  0.625387  0.488933  0.619653  0.524852  0.583479   0.867703  0.0   \n",
      "13247  0.695935  0.570286  0.682752  0.583148  0.660184  -0.825958  0.0   \n",
      "13256  0.735890  0.599922  0.712978  0.610021  0.712475  -0.671989  1.0   \n",
      "13257  0.627579  0.493168  0.582604  0.490642  0.534291  -0.902943  1.0   \n",
      "13258  0.737603  0.600838  0.673929  0.574313  0.658055   1.945487  1.0   \n",
      "13261  0.635348  0.499382  0.582953  0.548747  0.712475  -0.979927  1.0   \n",
      "13262  0.632327  0.497819  0.589250  0.496908  0.542188  -0.902943  0.0   \n",
      "13263  0.707217  0.572280  0.678693  0.579304  0.666761  -1.210881  0.0   \n",
      "\n",
      "       EDUCATION  MARRIAGE       AGE  target  \n",
      "0       0.666667  0.333333  0.051724       1  \n",
      "13269   0.666667  0.333333  0.120690       1  \n",
      "13244   1.000000  0.333333  0.275862       1  \n",
      "13247   0.666667  0.666667  0.068966       1  \n",
      "13256   1.000000  0.666667  0.086207       1  \n",
      "13257   1.000000  0.333333  0.189655       1  \n",
      "13258   1.000000  0.666667  0.103448       1  \n",
      "13261   0.333333  0.666667  0.017241       1  \n",
      "13262   0.666667  0.666667  0.379310       1  \n",
      "13263   0.666667  0.666667  0.034483       1  \n"
     ]
    }
   ],
   "source": [
    "# type 3\n",
    "if(tp == 3):\n",
    "    data_ = pd.read_csv('./UCI_Credit_Card.csv')\n",
    "    data3 = data_[['LIMIT_BAL','SEX','EDUCATION','MARRIAGE','AGE','BILL_AMT1','BILL_AMT2','BILL_AMT3','BILL_AMT4','BILL_AMT5','BILL_AMT6','PAY_AMT1','PAY_AMT2','PAY_AMT3','PAY_AMT4','PAY_AMT5','PAY_AMT6','default.payment.next.month']]\n",
    "    data_3 = data_\n",
    "    data_3.rename(columns={'default.payment.next.month':'target'}, inplace=True)\n",
    "    data_3['D5'] = (data3['PAY_AMT5'] - data3['BILL_AMT6']) / data3['LIMIT_BAL']\n",
    "    data_3['D4'] = (data3['PAY_AMT4'] - data3['BILL_AMT5']) / data3['LIMIT_BAL']\n",
    "    data_3['D3'] = (data3['PAY_AMT3'] - data3['BILL_AMT4']) / data3['LIMIT_BAL']\n",
    "    data_3['D2'] = (data3['PAY_AMT2'] - data3['BILL_AMT3']) / data3['LIMIT_BAL']\n",
    "    data_3['D1'] = (data3['PAY_AMT1'] - data3['BILL_AMT2']) / data3['LIMIT_BAL']\n",
    "    data_3 = data_3[['D1','D2','D3','D4','D5','LIMIT_BAL','SEX','EDUCATION','MARRIAGE','AGE','target']]\n",
    "    data_3 = data_3[data_3['EDUCATION']<=3]\n",
    "    data_3 = data_3.reset_index()\n",
    "    data_3 = data_3.drop(['index'],axis=1)\n",
    "    data_3 = normalize(data_3)\n",
    "\n",
    "    if(imbalance == 1):\n",
    "        data_3 = data_3.sort_values(by=['target'],ascending=False)\n",
    "        data_3 = data_3[:14000]\n",
    "        split_point = 10000    \n",
    "        data_3.target.unique()\n",
    "        plt.figure(figsize=(8,4))\n",
    "        sb.countplot(x='target', data = data_3)\n",
    "        plt.xlabel('default payment')\n",
    "        plt.ylabel('count')\n",
    "        plt.show()\n",
    "    else:\n",
    "        split_point = 25000\n",
    "   \n",
    "    data_train = data_3[:split_point]\n",
    "    data_test = data_3[split_point:]\n",
    "    x_train = np.array(data_train.drop('target', axis = 1))\n",
    "    y_train = np.array(data_train['target'])\n",
    "    x_test = np.array(data_test.drop('target', axis = 1))\n",
    "    y_test = np.array(data_test['target'])\n",
    "    input_feature = 10\n",
    "    print(len(data_3))\n",
    "    print(data_3[:10])\n"
   ]
  },
  {
   "cell_type": "code",
   "execution_count": 9,
   "metadata": {},
   "outputs": [
    {
     "data": {
      "text/plain": [
       "6603"
      ]
     },
     "execution_count": 9,
     "metadata": {},
     "output_type": "execute_result"
    }
   ],
   "source": [
    "data_3['target'].sum() #29546 - 6603 = 222943"
   ]
  },
  {
   "cell_type": "code",
   "execution_count": 12,
   "metadata": {},
   "outputs": [
    {
     "name": "stdout",
     "output_type": "stream",
     "text": [
      "torch.Size([25000, 10, 1]) torch.Size([25000, 1])\n",
      "torch.Size([4546, 10, 1]) torch.Size([4546, 1])\n"
     ]
    }
   ],
   "source": [
    "x_train = torch.from_numpy(x_train).reshape(-1,input_feature,1).type(torch.FloatTensor)\n",
    "y_train = torch.from_numpy(y_train.astype(np.float64)).view(-1,1).type(torch.FloatTensor)\n",
    "x_test = torch.from_numpy(x_test).reshape(-1,input_feature,1).type(torch.FloatTensor)\n",
    "y_test = torch.from_numpy(y_test.astype(np.float64)).view(-1,1).type(torch.FloatTensor)\n",
    "y_train = y_train.long()\n",
    "y_test = y_test.long()\n",
    "#train_target = torch.tensor(data_train['default.payment.next.month'],dtype=torch.long)\n",
    "#train = torch.tensor(data_train.drop('default.payment.next.month', axis = 1).values.astype(np.float64))\n",
    "#test_target = torch.tensor(data_test['default.payment.next.month'].values.astype(np.float64))\n",
    "#test = torch.tensor(data_test.drop('default.payment.next.month', axis = 1).values.astype(np.float64))\n",
    "\n",
    "\n",
    "train_data = data_utils.TensorDataset(x_train, y_train)\n",
    "test_data = data_utils.TensorDataset(x_test, y_test)\n",
    "print(x_train.shape,y_train.shape)\n",
    "print(x_test.shape,y_test.shape)\n",
    "\n",
    "train_loader = data_utils.DataLoader(\n",
    "    dataset = train_data,\n",
    "    batch_size = bs,\n",
    "    shuffle = True,\n",
    "    num_workers = nw,\n",
    ")\n",
    "\n",
    "test_loader = data_utils.DataLoader(\n",
    "    dataset = test_data,\n",
    "    batch_size = 200,\n",
    "    shuffle = True,\n",
    "    num_workers = nw,\n",
    ")\n"
   ]
  },
  {
   "cell_type": "code",
   "execution_count": 13,
   "metadata": {},
   "outputs": [],
   "source": [
    "def acc_cal(predict,label):\n",
    "    l = len(predict)\n",
    "    acc_count = 0\n",
    "    count = 0\n",
    "    for i in range(l):\n",
    "        if(torch.argmax(output[i])==label[i]):\n",
    "            acc_count = acc_count + 1\n",
    "        count = count + 1\n",
    "    return acc_count,count\n",
    "\n",
    "#重置參數用\n",
    "def weight_reset(m):\n",
    "    if isinstance(m, nn.Conv2d) or isinstance(m, nn.Linear):\n",
    "        m.reset_parameters()"
   ]
  },
  {
   "cell_type": "code",
   "execution_count": 22,
   "metadata": {},
   "outputs": [
    {
     "name": "stdout",
     "output_type": "stream",
     "text": [
      "DNN(\n",
      "  (dnn1): Sequential(\n",
      "    (0): Linear(in_features=10, out_features=36, bias=True)\n",
      "    (1): ReLU()\n",
      "  )\n",
      "  (dnn2): Sequential(\n",
      "    (0): Linear(in_features=36, out_features=108, bias=True)\n",
      "    (1): Dropout(p=0.8, inplace=False)\n",
      "    (2): ReLU()\n",
      "  )\n",
      "  (dnn3): Sequential(\n",
      "    (0): Linear(in_features=108, out_features=2, bias=True)\n",
      "  )\n",
      ")\n"
     ]
    }
   ],
   "source": [
    "\"\"\"\n",
    "\n",
    "import torch.nn.functional as F     \n",
    "\n",
    "class Net(torch.nn.Module):     \n",
    "    def __init__(self):\n",
    "        super(Net, self).__init__()     \n",
    "        self.hidden = torch.nn.Linear(input_feature, 36)   \n",
    "        self.out = torch.nn.Linear(36, 2)       \n",
    "\n",
    "    def forward(self, x):\n",
    "        \n",
    "        x = F.relu(self.hidden(x))      \n",
    "        x = self.out(x)                 \n",
    "        return x\n",
    "\n",
    "dnn = Net() \n",
    "print(dnn)  \n",
    "\"\"\"\n",
    "\n",
    "class DNN(torch.nn.Module):     \n",
    "    def __init__(self):\n",
    "        super(DNN, self).__init__()\n",
    "        self.dnn1 = nn.Sequential(\n",
    "            nn.Linear(input_feature,36, bias = True),\n",
    "            #nn.Dropout(0.5),\n",
    "            nn.ReLU()\n",
    "        )  \n",
    "        \n",
    "        self.dnn2 = nn.Sequential(  \n",
    "            nn.Linear(36,108, bias = True),\n",
    "            nn.Dropout(0.8),\n",
    "            nn.ReLU()\n",
    "        )\n",
    "        \n",
    "        self.dnn3 = nn.Sequential(  \n",
    "            nn.Linear(108,2, bias = True),\n",
    "            #nn.Dropout(0.5),\n",
    "            #nn.Softmax()\n",
    "            #nn.Sigmoid()\n",
    "            #nn.ReLU()\n",
    "        )\n",
    "    def forward(self, x):\n",
    "        \n",
    "        x_1 = self.dnn1(x)\n",
    "        x_2 = self.dnn2(x_1)   \n",
    "        output = self.dnn3(x_2)               \n",
    "        return output\n",
    "    \n",
    "dnn = DNN() \n",
    "print(dnn)  "
   ]
  },
  {
   "cell_type": "code",
   "execution_count": 25,
   "metadata": {},
   "outputs": [
    {
     "name": "stdout",
     "output_type": "stream",
     "text": [
      "acc_count_t_test 1576\n",
      "count_t_test 2000\n",
      "Epoch [1/20] , Loss: 0.6087 , Train_Acc: 0.6793  , Test_Acc: 0.7880\n",
      "acc_count_t_test 1561\n",
      "count_t_test 2000\n",
      "Epoch [2/20] , Loss: 0.4853 , Train_Acc: 0.7747  , Test_Acc: 0.7805\n",
      "acc_count_t_test 1551\n",
      "count_t_test 2000\n",
      "Epoch [3/20] , Loss: 0.5416 , Train_Acc: 0.7748  , Test_Acc: 0.7755\n",
      "acc_count_t_test 1600\n",
      "count_t_test 2000\n",
      "Epoch [4/20] , Loss: 0.5226 , Train_Acc: 0.7749  , Test_Acc: 0.8000\n",
      "acc_count_t_test 1572\n",
      "count_t_test 2000\n",
      "Epoch [5/20] , Loss: 0.6506 , Train_Acc: 0.7749  , Test_Acc: 0.7860\n",
      "acc_count_t_test 1563\n",
      "count_t_test 2000\n",
      "Epoch [6/20] , Loss: 0.5382 , Train_Acc: 0.7749  , Test_Acc: 0.7815\n",
      "acc_count_t_test 1574\n",
      "count_t_test 2000\n",
      "Epoch [7/20] , Loss: 0.5421 , Train_Acc: 0.7749  , Test_Acc: 0.7870\n",
      "acc_count_t_test 1562\n",
      "count_t_test 2000\n",
      "Epoch [8/20] , Loss: 0.6409 , Train_Acc: 0.7749  , Test_Acc: 0.7810\n",
      "acc_count_t_test 1567\n",
      "count_t_test 2000\n",
      "Epoch [9/20] , Loss: 0.5315 , Train_Acc: 0.7749  , Test_Acc: 0.7835\n",
      "acc_count_t_test 1564\n",
      "count_t_test 2000\n",
      "Epoch [10/20] , Loss: 0.3999 , Train_Acc: 0.7749  , Test_Acc: 0.7820\n",
      "acc_count_t_test 1579\n",
      "count_t_test 2000\n",
      "Epoch [11/20] , Loss: 0.5492 , Train_Acc: 0.7749  , Test_Acc: 0.7895\n",
      "acc_count_t_test 1573\n",
      "count_t_test 2000\n",
      "Epoch [12/20] , Loss: 0.7334 , Train_Acc: 0.7749  , Test_Acc: 0.7865\n",
      "acc_count_t_test 1584\n",
      "count_t_test 2000\n",
      "Epoch [13/20] , Loss: 0.5537 , Train_Acc: 0.7749  , Test_Acc: 0.7920\n",
      "acc_count_t_test 1580\n",
      "count_t_test 2000\n",
      "Epoch [14/20] , Loss: 0.5100 , Train_Acc: 0.7749  , Test_Acc: 0.7900\n",
      "acc_count_t_test 1586\n",
      "count_t_test 2000\n",
      "Epoch [15/20] , Loss: 0.4760 , Train_Acc: 0.7749  , Test_Acc: 0.7930\n",
      "acc_count_t_test 1540\n",
      "count_t_test 2000\n",
      "Epoch [16/20] , Loss: 0.4746 , Train_Acc: 0.7749  , Test_Acc: 0.7700\n",
      "acc_count_t_test 1578\n",
      "count_t_test 2000\n",
      "Epoch [17/20] , Loss: 0.5125 , Train_Acc: 0.7749  , Test_Acc: 0.7890\n",
      "acc_count_t_test 1549\n",
      "count_t_test 2000\n",
      "Epoch [18/20] , Loss: 0.4702 , Train_Acc: 0.7749  , Test_Acc: 0.7745\n",
      "acc_count_t_test 1572\n",
      "count_t_test 2000\n",
      "Epoch [19/20] , Loss: 0.5735 , Train_Acc: 0.7749  , Test_Acc: 0.7860\n",
      "acc_count_t_test 1567\n",
      "count_t_test 2000\n",
      "Epoch [20/20] , Loss: 0.5113 , Train_Acc: 0.7749  , Test_Acc: 0.7835\n"
     ]
    }
   ],
   "source": [
    "optimizer = torch.optim.Adam(dnn.parameters(), lr=lr)  \n",
    "#optimizer = torch.optim.SGD(dnn.parameters(), lr=0.1, momentum=0.9)\n",
    "loss_func = nn.CrossEntropyLoss() \n",
    "#loss_func = nn.BCEWithLogitsLoss() \n",
    "\n",
    "dnn.apply(weight_reset)\n",
    "\n",
    "for epoch in range(num_epochs):\n",
    "    acc_count_t = 0\n",
    "    count_t = 0\n",
    "    acc_count_t_test = 0\n",
    "    count_t_test = 0    \n",
    "    for iteration, (b_x, b_y) in enumerate(train_loader):   \n",
    "        b_x = b_x.view(-1, input_feature)\n",
    "        b_y = b_y.squeeze()\n",
    "        #print(b_y)\n",
    "        output = dnn(b_x)               \n",
    "        loss = loss_func(output, b_y)  \n",
    "        #print(output)\n",
    "        optimizer.zero_grad()           \n",
    "        loss.backward()                 \n",
    "        optimizer.step()                \n",
    "        acc_count,count = acc_cal(output,b_y)\n",
    "        acc_count_t = acc_count_t + acc_count\n",
    "        count_t = count_t + count\n",
    "        acc = acc_count_t / count_t\n",
    "        \"\"\"\n",
    "        if(iteration == 1):\n",
    "            acc1 = acc\n",
    "        \"\"\"\n",
    "    for iteration, (b_x_test, b_y_test) in enumerate(test_loader):\n",
    "        if(iteration == 10):\n",
    "            break\n",
    "        b_x_test = b_x_test.view(-1, input_feature)\n",
    "        b_y_test = b_y_test.squeeze()\n",
    "        output = dnn(b_x_test) \n",
    "        acc_count,count = acc_cal(output,b_y_test)\n",
    "        acc_count_t_test = acc_count_t_test + acc_count\n",
    "        count_t_test = count_t_test + count\n",
    "    acc_test = acc_count_t_test / count_t_test\n",
    "    \n",
    "    print('acc_count_t_test',acc_count_t_test)\n",
    "    print('count_t_test',count_t_test)\n",
    "    print ('Epoch [{}/{}] , Loss: {:.4f} , Train_Acc: {:.4f}  , Test_Acc: {:.4f}' \n",
    "           .format(epoch+1, num_epochs, loss, acc, acc_test))"
   ]
  },
  {
   "cell_type": "code",
   "execution_count": 214,
   "metadata": {},
   "outputs": [],
   "source": [
    "num_epochs = 30"
   ]
  },
  {
   "cell_type": "code",
   "execution_count": 24,
   "metadata": {},
   "outputs": [],
   "source": [
    "lr = 0.0001"
   ]
  },
  {
   "cell_type": "code",
   "execution_count": null,
   "metadata": {},
   "outputs": [],
   "source": []
  }
 ],
 "metadata": {
  "kernelspec": {
   "display_name": "Python 3",
   "language": "python",
   "name": "python3"
  },
  "language_info": {
   "codemirror_mode": {
    "name": "ipython",
    "version": 3
   },
   "file_extension": ".py",
   "mimetype": "text/x-python",
   "name": "python",
   "nbconvert_exporter": "python",
   "pygments_lexer": "ipython3",
   "version": "3.6.9"
  }
 },
 "nbformat": 4,
 "nbformat_minor": 4
}
